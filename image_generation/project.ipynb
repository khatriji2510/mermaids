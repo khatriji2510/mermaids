{
 "cells": [
  {
   "cell_type": "code",
   "execution_count": 1,
   "id": "9fe4accf",
   "metadata": {},
   "outputs": [],
   "source": [
    "from PIL import Image, ImageOps\n",
    "from IPython.display import display\n",
    "import random\n",
    "import json"
   ]
  },
  {
   "cell_type": "code",
   "execution_count": 2,
   "id": "22d11af7",
   "metadata": {},
   "outputs": [],
   "source": [
    "backgrounds = [\"Lilac\", \"Mint\",\"background3\",\"background4\",\"background5\",\"background6\",\"background7\"]\n",
    "backgroundweights = [10,10,10,10,10,10,40]\n",
    "\n",
    "horse = [\"skin1\",\"skin2\",\"skin3\",\"skin4\",\"skin5\",\"skin6\"]\n",
    "horseweights = [10,10,10,10,10,50]\n",
    "\n",
    "mouths = [\"mouth1\",\"mouth2\",\"mouth3\",\"mouth4\",\"mouth5\",\"mouth6\",\"mouth7\",\"mouth8\",\"mouth9\",\"mouth10\",\"mouth11\",\"mouth12\",\"mouth13\",\"mouth14\",\"mouth15\",\"mouth16\",\"mouth17\",\"mouth18\",\"mouth19\",\"mouth20\",\"mouth21\",\"mouth22\",\"mouth23\",\"mouth24\",\"mouth25\"]\n",
    "mouthweights = [2,2,2,2,2,2,2,2,2,2,2,2,2,2,2,2,2,2,2,2,2,2,2,2,2]\n",
    "\n",
    "eyes = [\"1\",\"2\",\"3\",\"4\",\"5\",\"6\",\"7\",\"8\",\"9\",\"10\",\"11\",\"12\",\"13\",\"14\",\"15\",\"16\",\"17\",\"18\",\"19\",\"20\",\"21\",\"22\",\"23\",\"24\",\"25\"]\n",
    "eyesweights = [2,2,2,2,2,2,2,2,2,2,2,2,2,2,2,2,2,2,2,2,2,2,2,2,2]\n",
    "\n",
    "gear = [\"1\",\"2\",\"3\",\"4\",\"5\",\"6\",\"7\",\"8\",\"9\",\"10\",\"11\",\"12\",\"13\",\"14\",\"15\",\"16\",\"17\",\"18\",\"19\",\"20\",\"21\",\"22\",\"23\",\"24\",\"25\"]\n",
    "gearweights = [2,2,2,2,2,2,2,2,2,2,2,2,2,2,2,2,2,2,2,2,2,2,2,2,2]\n",
    "\n",
    "accessories = [\"1\",\"2\"]\n",
    "accessoriesweights = [50,50]\n",
    "\n",
    "backgroundfiles = {\n",
    "    \"Lilac\": \"bg1\",\n",
    "    \"Mint\": \"bg2\",\n",
    "    \"background3\":\"bg3\",\n",
    "    \"background4\":\"bg4\",\n",
    "    \"background5\":\"bg5\",\n",
    "    \"background6\":\"bg6\",\n",
    "    \"background7\":\"bg7\"\n",
    "}\n",
    "\n",
    "horsefile ={\n",
    "    \"skin1\":\"skin1\",\n",
    "    \"skin2\":\"skin2\",\n",
    "    \"skin3\":\"skin3\",\n",
    "    \"skin4\":\"skin4\",\n",
    "    \"skin5\":\"skin5\",\n",
    "    \"skin6\":\"skin6\"\n",
    "}\n",
    "\n",
    "mouthfiles = {\n",
    "    \n",
    "    \"mouth1\": \"mouth1\",\n",
    "    \"mouth2\": \"mouth2\",\n",
    "    \"mouth3\": \"mouth3\",\n",
    "    \"mouth4\": \"mouth4\",\n",
    "    \"mouth5\": \"mouth5\",\n",
    "    \"mouth6\": \"mouth6\",\n",
    "    \"mouth7\": \"mouth7\",\n",
    "    \"mouth8\": \"mouth8\",\n",
    "    \"mouth9\": \"mouth9\",\n",
    "    \"mouth10\": \"mouth10\",\n",
    "    \"mouth11\": \"mouth11\",\n",
    "    \"mouth12\": \"mouth12\",\n",
    "    \"mouth13\": \"mouth13\",\n",
    "    \"mouth14\": \"mouth14\",\n",
    "    \"mouth15\": \"mouth15\",\n",
    "    \"mouth16\": \"mouth16\",\n",
    "    \"mouth17\": \"mouth17\",\n",
    "    \"mouth18\": \"mouth18\",\n",
    "    \"mouth19\": \"mouth19\",\n",
    "    \"mouth20\": \"mouth20\",\n",
    "    \"mouth21\": \"mouth21\",\n",
    "    \"mouth22\": \"mouth22\",\n",
    "    \"mouth23\": \"mouth23\",\n",
    "    \"mouth24\": \"mouth24\",\n",
    "    \"mouth25\": \"mouth25\"\n",
    "}\n",
    "\n",
    "eyefiles = {\n",
    "    \"1\": \"eye1\",\n",
    "    \"2\": \"eye2\",\n",
    "    \"3\": \"eye3\",\n",
    "    \"4\": \"eye4\",\n",
    "    \"5\": \"eye5\",\n",
    "    \"6\": \"eye6\",\n",
    "    \"7\": \"eye7\",\n",
    "    \"8\": \"eye8\",\n",
    "    \"9\": \"eye9\",\n",
    "    \"10\": \"eye10\",\n",
    "    \"11\": \"eye11\",\n",
    "    \"12\": \"eye12\",\n",
    "    \"13\": \"eye13\",\n",
    "    \"14\": \"eye14\",\n",
    "    \"15\": \"eye15\",\n",
    "    \"16\": \"eye16\",\n",
    "    \"17\": \"eye17\",\n",
    "    \"18\": \"eye18\",\n",
    "    \"19\": \"eye19\",\n",
    "    \"20\": \"eye20\",\n",
    "    \"21\": \"eye21\",\n",
    "    \"22\": \"eye22\",\n",
    "    \"23\": \"eye23\",\n",
    "    \"24\": \"eye24\",\n",
    "    \"25\": \"eye25\"\n",
    "}\n",
    "\n",
    "gearfiles = {\n",
    "    \"1\": \"hg1\",\n",
    "    \"2\": \"hg2\",\n",
    "    \"3\": \"hg3\",\n",
    "    \"4\": \"hg4\",\n",
    "    \"5\": \"hg5\",\n",
    "    \"6\": \"hg6\",\n",
    "    \"7\": \"hg7\",\n",
    "    \"8\": \"hg8\",\n",
    "    \"9\": \"hg9\",\n",
    "    \"10\": \"hg1\",\n",
    "    \"11\": \"hg11\",\n",
    "    \"12\": \"hg12\",\n",
    "    \"13\": \"hg13\",\n",
    "    \"14\": \"hg14\",\n",
    "    \"15\": \"hg15\",\n",
    "    \"16\": \"hg16\",\n",
    "    \"17\": \"hg17\",\n",
    "    \"18\": \"hg18\",\n",
    "    \"19\": \"hg19\",\n",
    "    \"20\": \"hg20\",\n",
    "    \"21\": \"hg21\",\n",
    "    \"22\": \"hg22\",\n",
    "    \"23\": \"hg23\",\n",
    "    \"24\": \"hg24\",\n",
    "    \"25\": \"hg25\",\n",
    "}\n",
    "\n",
    "accessoriesfiles = {\n",
    "    \"1\": \"acces1\",\n",
    "    \"2\": \"acces2\"\n",
    "}"
   ]
  },
  {
   "cell_type": "code",
   "execution_count": 3,
   "id": "50c574f3",
   "metadata": {},
   "outputs": [],
   "source": [
    "TOTAL_HORSES = 20\n",
    "\n",
    "traits = []\n",
    "\n",
    "def createCombo():\n",
    "    \n",
    "    trait = {}\n",
    "\n",
    "    trait[\"Background\"] = random.choices(backgrounds, backgroundweights)[0]\n",
    "    trait[\"horse base\"] = random.choices(horse, horseweights)[0]\n",
    "    trait[\"Mouth\"] = random.choices(mouths, mouthweights)[0]\n",
    "    trait[\"Eyes\"] = random.choices(eyes, eyesweights)[0]\n",
    "    trait[\"gear\"] = random.choices(gear, gearweights)[0]\n",
    "    trait[\"accessories\"] = random.choices(accessories, accessoriesweights)[0]\n",
    "    \n",
    "    if trait in traits:\n",
    "        return createCombo()\n",
    "    else:\n",
    "        return trait\n",
    "    \n",
    "for i in range(TOTAL_HORSES):\n",
    "    \n",
    "    newtraitcombo = createCombo()\n",
    "    \n",
    "    traits.append(newtraitcombo)"
   ]
  },
  {
   "cell_type": "code",
   "execution_count": 4,
   "id": "3265d9b3",
   "metadata": {},
   "outputs": [
    {
     "name": "stdout",
     "output_type": "stream",
     "text": [
      "True\n"
     ]
    }
   ],
   "source": [
    "def allUnique(x):\n",
    "    seen = list()\n",
    "    return not any(i in seen or seen.append(i) for i in x)\n",
    "\n",
    "print(allUnique(traits))"
   ]
  },
  {
   "cell_type": "code",
   "execution_count": 5,
   "id": "abe013f7",
   "metadata": {},
   "outputs": [],
   "source": [
    "i = 0\n",
    "for item in traits:\n",
    "    item[\"tokenId\"] = i\n",
    "    i = i + 1"
   ]
  },
  {
   "cell_type": "code",
   "execution_count": 6,
   "id": "84c02c39",
   "metadata": {},
   "outputs": [
    {
     "name": "stdout",
     "output_type": "stream",
     "text": [
      "[{'Background': 'background7', 'horse base': 'skin4', 'Mouth': 'mouth12', 'Eyes': '25', 'gear': '1', 'accessories': '1', 'tokenId': 0}, {'Background': 'background7', 'horse base': 'skin3', 'Mouth': 'mouth5', 'Eyes': '21', 'gear': '11', 'accessories': '1', 'tokenId': 1}, {'Background': 'background7', 'horse base': 'skin6', 'Mouth': 'mouth18', 'Eyes': '5', 'gear': '19', 'accessories': '1', 'tokenId': 2}, {'Background': 'background6', 'horse base': 'skin6', 'Mouth': 'mouth18', 'Eyes': '25', 'gear': '23', 'accessories': '2', 'tokenId': 3}, {'Background': 'Lilac', 'horse base': 'skin6', 'Mouth': 'mouth7', 'Eyes': '16', 'gear': '17', 'accessories': '2', 'tokenId': 4}, {'Background': 'background7', 'horse base': 'skin6', 'Mouth': 'mouth18', 'Eyes': '18', 'gear': '5', 'accessories': '1', 'tokenId': 5}, {'Background': 'background7', 'horse base': 'skin6', 'Mouth': 'mouth10', 'Eyes': '9', 'gear': '12', 'accessories': '1', 'tokenId': 6}, {'Background': 'background7', 'horse base': 'skin6', 'Mouth': 'mouth6', 'Eyes': '15', 'gear': '19', 'accessories': '2', 'tokenId': 7}, {'Background': 'background3', 'horse base': 'skin4', 'Mouth': 'mouth13', 'Eyes': '23', 'gear': '1', 'accessories': '2', 'tokenId': 8}, {'Background': 'background6', 'horse base': 'skin6', 'Mouth': 'mouth8', 'Eyes': '10', 'gear': '2', 'accessories': '2', 'tokenId': 9}, {'Background': 'background7', 'horse base': 'skin6', 'Mouth': 'mouth10', 'Eyes': '9', 'gear': '15', 'accessories': '2', 'tokenId': 10}, {'Background': 'background7', 'horse base': 'skin5', 'Mouth': 'mouth1', 'Eyes': '6', 'gear': '5', 'accessories': '1', 'tokenId': 11}, {'Background': 'background4', 'horse base': 'skin6', 'Mouth': 'mouth3', 'Eyes': '14', 'gear': '23', 'accessories': '1', 'tokenId': 12}, {'Background': 'Lilac', 'horse base': 'skin6', 'Mouth': 'mouth21', 'Eyes': '18', 'gear': '11', 'accessories': '2', 'tokenId': 13}, {'Background': 'background5', 'horse base': 'skin3', 'Mouth': 'mouth1', 'Eyes': '3', 'gear': '4', 'accessories': '1', 'tokenId': 14}, {'Background': 'background7', 'horse base': 'skin6', 'Mouth': 'mouth9', 'Eyes': '20', 'gear': '6', 'accessories': '1', 'tokenId': 15}, {'Background': 'background7', 'horse base': 'skin1', 'Mouth': 'mouth6', 'Eyes': '1', 'gear': '6', 'accessories': '2', 'tokenId': 16}, {'Background': 'Lilac', 'horse base': 'skin3', 'Mouth': 'mouth23', 'Eyes': '25', 'gear': '16', 'accessories': '1', 'tokenId': 17}, {'Background': 'background5', 'horse base': 'skin6', 'Mouth': 'mouth6', 'Eyes': '14', 'gear': '5', 'accessories': '2', 'tokenId': 18}, {'Background': 'background6', 'horse base': 'skin6', 'Mouth': 'mouth5', 'Eyes': '23', 'gear': '11', 'accessories': '2', 'tokenId': 19}]\n"
     ]
    }
   ],
   "source": [
    "print(traits)"
   ]
  },
  {
   "cell_type": "code",
   "execution_count": 7,
   "id": "97d2003d",
   "metadata": {},
   "outputs": [
    {
     "name": "stdout",
     "output_type": "stream",
     "text": [
      "{'Background': 'background7', 'horse base': 'skin4', 'Mouth': 'mouth12', 'Eyes': '25', 'gear': '1', 'accessories': '1', 'tokenId': 0}\n",
      "{'Background': 'background7', 'horse base': 'skin3', 'Mouth': 'mouth5', 'Eyes': '21', 'gear': '11', 'accessories': '1', 'tokenId': 1}\n",
      "{'Background': 'background7', 'horse base': 'skin6', 'Mouth': 'mouth18', 'Eyes': '5', 'gear': '19', 'accessories': '1', 'tokenId': 2}\n",
      "{'Background': 'background6', 'horse base': 'skin6', 'Mouth': 'mouth18', 'Eyes': '25', 'gear': '23', 'accessories': '2', 'tokenId': 3}\n",
      "{'Background': 'Lilac', 'horse base': 'skin6', 'Mouth': 'mouth7', 'Eyes': '16', 'gear': '17', 'accessories': '2', 'tokenId': 4}\n",
      "{'Background': 'background7', 'horse base': 'skin6', 'Mouth': 'mouth18', 'Eyes': '18', 'gear': '5', 'accessories': '1', 'tokenId': 5}\n",
      "{'Background': 'background7', 'horse base': 'skin6', 'Mouth': 'mouth10', 'Eyes': '9', 'gear': '12', 'accessories': '1', 'tokenId': 6}\n",
      "{'Background': 'background7', 'horse base': 'skin6', 'Mouth': 'mouth6', 'Eyes': '15', 'gear': '19', 'accessories': '2', 'tokenId': 7}\n",
      "{'Background': 'background3', 'horse base': 'skin4', 'Mouth': 'mouth13', 'Eyes': '23', 'gear': '1', 'accessories': '2', 'tokenId': 8}\n",
      "{'Background': 'background6', 'horse base': 'skin6', 'Mouth': 'mouth8', 'Eyes': '10', 'gear': '2', 'accessories': '2', 'tokenId': 9}\n",
      "{'Background': 'background7', 'horse base': 'skin6', 'Mouth': 'mouth10', 'Eyes': '9', 'gear': '15', 'accessories': '2', 'tokenId': 10}\n",
      "{'Background': 'background7', 'horse base': 'skin5', 'Mouth': 'mouth1', 'Eyes': '6', 'gear': '5', 'accessories': '1', 'tokenId': 11}\n",
      "{'Background': 'background4', 'horse base': 'skin6', 'Mouth': 'mouth3', 'Eyes': '14', 'gear': '23', 'accessories': '1', 'tokenId': 12}\n",
      "{'Background': 'Lilac', 'horse base': 'skin6', 'Mouth': 'mouth21', 'Eyes': '18', 'gear': '11', 'accessories': '2', 'tokenId': 13}\n",
      "{'Background': 'background5', 'horse base': 'skin3', 'Mouth': 'mouth1', 'Eyes': '3', 'gear': '4', 'accessories': '1', 'tokenId': 14}\n",
      "{'Background': 'background7', 'horse base': 'skin6', 'Mouth': 'mouth9', 'Eyes': '20', 'gear': '6', 'accessories': '1', 'tokenId': 15}\n",
      "{'Background': 'background7', 'horse base': 'skin1', 'Mouth': 'mouth6', 'Eyes': '1', 'gear': '6', 'accessories': '2', 'tokenId': 16}\n",
      "{'Background': 'Lilac', 'horse base': 'skin3', 'Mouth': 'mouth23', 'Eyes': '25', 'gear': '16', 'accessories': '1', 'tokenId': 17}\n",
      "{'Background': 'background5', 'horse base': 'skin6', 'Mouth': 'mouth6', 'Eyes': '14', 'gear': '5', 'accessories': '2', 'tokenId': 18}\n",
      "{'Background': 'background6', 'horse base': 'skin6', 'Mouth': 'mouth5', 'Eyes': '23', 'gear': '11', 'accessories': '2', 'tokenId': 19}\n",
      "background: {'Lilac': 3, 'Mint': 0, 'background3': 1, 'background4': 1, 'background5': 2, 'background6': 3, 'background7': 10}\n",
      "horse base: {'skin1': 1, 'skin2': 0, 'skin3': 3, 'skin4': 2, 'skin5': 1, 'skin6': 13}\n",
      "mouth: {'mouth1': 2, 'mouth2': 0, 'mouth3': 1, 'mouth4': 0, 'mouth5': 2, 'mouth6': 3, 'mouth7': 1, 'mouth8': 1, 'mouth9': 1, 'mouth10': 2, 'mouth11': 0, 'mouth12': 1, 'mouth13': 1, 'mouth14': 0, 'mouth15': 0, 'mouth16': 0, 'mouth17': 0, 'mouth18': 3, 'mouth19': 0, 'mouth20': 0, 'mouth21': 1, 'mouth22': 0, 'mouth23': 1, 'mouth24': 0, 'mouth25': 0}\n",
      "eyes: {'1': 1, '2': 0, '3': 1, '4': 0, '5': 1, '6': 1, '7': 0, '8': 0, '9': 2, '10': 1, '11': 0, '12': 0, '13': 0, '14': 2, '15': 1, '16': 1, '17': 0, '18': 2, '19': 0, '20': 1, '21': 1, '22': 0, '23': 2, '24': 0, '25': 3}\n",
      "gear: {'1': 2, '2': 1, '3': 0, '4': 1, '5': 3, '6': 2, '7': 0, '8': 0, '9': 0, '10': 0, '11': 3, '12': 1, '13': 0, '14': 0, '15': 1, '16': 1, '17': 1, '18': 0, '19': 2, '20': 0, '21': 0, '22': 0, '23': 2, '24': 0, '25': 0}\n"
     ]
    }
   ],
   "source": [
    "backgroundcounts = {}\n",
    "for item in backgrounds:\n",
    "    backgroundcounts[item] = 0\n",
    "    \n",
    "horsecounts = {}\n",
    "for item in horse:\n",
    "    horsecounts[item] = 0\n",
    "    \n",
    "mouthcounts = {}\n",
    "for item in mouths:\n",
    "    mouthcounts[item] = 0\n",
    "    \n",
    "eyescounts = {}\n",
    "for item in eyes:\n",
    "    eyescounts[item] = 0\n",
    "    \n",
    "gearcounts = {}\n",
    "for item in gear:\n",
    "    gearcounts[item] = 0\n",
    "\n",
    "accessoriescounts = {}\n",
    "for item in accessories:\n",
    "    accessoriescounts[item] = 0    \n",
    "    \n",
    "for horse in traits:\n",
    "        print(horse)\n",
    "        backgroundcounts[horse[\"Background\"]] += 1\n",
    "        horsecounts[horse[\"horse base\"]] += 1\n",
    "        mouthcounts[horse[\"Mouth\"]] += 1\n",
    "        eyescounts[horse[\"Eyes\"]] += 1\n",
    "        gearcounts[horse[\"gear\"]] += 1\n",
    "    \n",
    "print(\"background:\", backgroundcounts)\n",
    "print(\"horse base:\", horsecounts)\n",
    "print(\"mouth:\", mouthcounts)\n",
    "print(\"eyes:\", eyescounts)\n",
    "print(\"gear:\", gearcounts)"
   ]
  },
  {
   "cell_type": "code",
   "execution_count": 8,
   "id": "f0d125c6",
   "metadata": {},
   "outputs": [],
   "source": [
    "with open('traits2.json', 'w') as outfile:\n",
    "    json.dump(traits, outfile, indent=4)"
   ]
  },
  {
   "cell_type": "code",
   "execution_count": 9,
   "id": "1401042c",
   "metadata": {},
   "outputs": [
    {
     "data": {
      "text/plain": [
       "{'Lilac': 'bg1',\n",
       " 'Mint': 'bg2',\n",
       " 'background3': 'bg3',\n",
       " 'background4': 'bg4',\n",
       " 'background5': 'bg5',\n",
       " 'background6': 'bg6',\n",
       " 'background7': 'bg7'}"
      ]
     },
     "execution_count": 9,
     "metadata": {},
     "output_type": "execute_result"
    }
   ],
   "source": [
    "backgroundfiles"
   ]
  },
  {
   "cell_type": "code",
   "execution_count": 14,
   "id": "9929de50",
   "metadata": {
    "scrolled": true
   },
   "outputs": [
    {
     "ename": "FileNotFoundError",
     "evalue": "[Errno 2] No such file or directory: './horse/skin4.png'",
     "output_type": "error",
     "traceback": [
      "\u001b[1;31m---------------------------------------------------------------------------\u001b[0m",
      "\u001b[1;31mFileNotFoundError\u001b[0m                         Traceback (most recent call last)",
      "\u001b[1;32m<ipython-input-14-2c6123176236>\u001b[0m in \u001b[0;36m<module>\u001b[1;34m\u001b[0m\n\u001b[0;32m      2\u001b[0m \u001b[1;33m\u001b[0m\u001b[0m\n\u001b[0;32m      3\u001b[0m     \u001b[0mim1\u001b[0m \u001b[1;33m=\u001b[0m \u001b[0mImage\u001b[0m\u001b[1;33m.\u001b[0m\u001b[0mopen\u001b[0m\u001b[1;33m(\u001b[0m\u001b[1;34mf'./background/{backgroundfiles[item[\"Background\"]]}.png'\u001b[0m\u001b[1;33m)\u001b[0m\u001b[1;33m.\u001b[0m\u001b[0mconvert\u001b[0m\u001b[1;33m(\u001b[0m\u001b[1;34m'RGBA'\u001b[0m\u001b[1;33m)\u001b[0m\u001b[1;33m\u001b[0m\u001b[1;33m\u001b[0m\u001b[0m\n\u001b[1;32m----> 4\u001b[1;33m     \u001b[0mim2\u001b[0m \u001b[1;33m=\u001b[0m \u001b[0mImage\u001b[0m\u001b[1;33m.\u001b[0m\u001b[0mopen\u001b[0m\u001b[1;33m(\u001b[0m\u001b[1;34mf'./horse/{horsefile[item[\"horse base\"]]}.png'\u001b[0m\u001b[1;33m)\u001b[0m\u001b[1;33m.\u001b[0m\u001b[0mconvert\u001b[0m\u001b[1;33m(\u001b[0m\u001b[1;34m'RGBA'\u001b[0m\u001b[1;33m)\u001b[0m\u001b[1;33m\u001b[0m\u001b[1;33m\u001b[0m\u001b[0m\n\u001b[0m\u001b[0;32m      5\u001b[0m     \u001b[0mim3\u001b[0m \u001b[1;33m=\u001b[0m \u001b[0mImage\u001b[0m\u001b[1;33m.\u001b[0m\u001b[0mopen\u001b[0m\u001b[1;33m(\u001b[0m\u001b[1;34mf'./mouths/{mouthfiles[item[\"Mouth\"]]}.png'\u001b[0m\u001b[1;33m)\u001b[0m\u001b[1;33m.\u001b[0m\u001b[0mconvert\u001b[0m\u001b[1;33m(\u001b[0m\u001b[1;34m'RGBA'\u001b[0m\u001b[1;33m)\u001b[0m\u001b[1;33m\u001b[0m\u001b[1;33m\u001b[0m\u001b[0m\n\u001b[0;32m      6\u001b[0m     \u001b[0mim4\u001b[0m \u001b[1;33m=\u001b[0m \u001b[0mImage\u001b[0m\u001b[1;33m.\u001b[0m\u001b[0mopen\u001b[0m\u001b[1;33m(\u001b[0m\u001b[1;34mf'./eyes/{eyefiles[item[\"Eyes\"]]}.png'\u001b[0m\u001b[1;33m)\u001b[0m\u001b[1;33m.\u001b[0m\u001b[0mconvert\u001b[0m\u001b[1;33m(\u001b[0m\u001b[1;34m'RGBA'\u001b[0m\u001b[1;33m)\u001b[0m\u001b[1;33m\u001b[0m\u001b[1;33m\u001b[0m\u001b[0m\n",
      "\u001b[1;32mD:\\annaconda\\lib\\site-packages\\PIL\\Image.py\u001b[0m in \u001b[0;36mopen\u001b[1;34m(fp, mode, formats)\u001b[0m\n\u001b[0;32m   2910\u001b[0m \u001b[1;33m\u001b[0m\u001b[0m\n\u001b[0;32m   2911\u001b[0m     \u001b[1;32mif\u001b[0m \u001b[0mfilename\u001b[0m\u001b[1;33m:\u001b[0m\u001b[1;33m\u001b[0m\u001b[1;33m\u001b[0m\u001b[0m\n\u001b[1;32m-> 2912\u001b[1;33m         \u001b[0mfp\u001b[0m \u001b[1;33m=\u001b[0m \u001b[0mbuiltins\u001b[0m\u001b[1;33m.\u001b[0m\u001b[0mopen\u001b[0m\u001b[1;33m(\u001b[0m\u001b[0mfilename\u001b[0m\u001b[1;33m,\u001b[0m \u001b[1;34m\"rb\"\u001b[0m\u001b[1;33m)\u001b[0m\u001b[1;33m\u001b[0m\u001b[1;33m\u001b[0m\u001b[0m\n\u001b[0m\u001b[0;32m   2913\u001b[0m         \u001b[0mexclusive_fp\u001b[0m \u001b[1;33m=\u001b[0m \u001b[1;32mTrue\u001b[0m\u001b[1;33m\u001b[0m\u001b[1;33m\u001b[0m\u001b[0m\n\u001b[0;32m   2914\u001b[0m \u001b[1;33m\u001b[0m\u001b[0m\n",
      "\u001b[1;31mFileNotFoundError\u001b[0m: [Errno 2] No such file or directory: './horse/skin4.png'"
     ]
    }
   ],
   "source": [
    "for item in traits:\n",
    "\n",
    "    im1 = Image.open(f'./background/{backgroundfiles[item[\"Background\"]]}.png').convert('RGBA')\n",
    "    im2 = Image.open(f'./horse/{horsefile[item[\"horse base\"]]}.png').convert('RGBA')\n",
    "    im3 = Image.open(f'./mouths/{mouthfiles[item[\"Mouth\"]]}.png').convert('RGBA')\n",
    "    im4 = Image.open(f'./eyes/{eyefiles[item[\"Eyes\"]]}.png').convert('RGBA')\n",
    "    im5 = Image.open(f'./gears/{gearfiles[item[\"gear\"]]}.png').convert('RGBA')\n",
    "    im6 = Image.open(f'./accessories/{accessoriesfiles[item[\"accessories\"]]}.png').convert('RGBA')\n",
    "\n",
    "\n",
    "    #Create each composite\n",
    "    com1 = Image.alpha_composite(im1, im2)\n",
    "    com2 = Image.alpha_composite(com1, im3)\n",
    "    com3 = Image.alpha_composite(com2, im4)\n",
    "    com4 = Image.alpha_composite(com3, im5)\n",
    "    com5 = Image.alpha_composite(com4, im6)\n",
    "\n",
    "    #Convert to RGB\n",
    "    rgb_im = com5.convert('RGB')\n",
    "#     display(rgb_im.resize((400,400), Image.NEAREST))\n",
    "\n",
    "    file_name = str(item[\"tokenId\"]) + \".jpg\"\n",
    "    rgb_im.save(\"./hidka/\" + file_name)\n",
    "    print(f'{str(item[\"tokenId\"])} done')"
   ]
  },
  {
   "cell_type": "code",
   "execution_count": 10,
   "id": "4712662f",
   "metadata": {},
   "outputs": [],
   "source": [
    "import os"
   ]
  },
  {
   "cell_type": "code",
   "execution_count": 11,
   "id": "55ed712f",
   "metadata": {},
   "outputs": [
    {
     "data": {
      "text/plain": [
       "'C:\\\\Users\\\\vipin'"
      ]
     },
     "execution_count": 11,
     "metadata": {},
     "output_type": "execute_result"
    }
   ],
   "source": [
    "os.getcwd()"
   ]
  },
  {
   "cell_type": "code",
   "execution_count": 12,
   "id": "8754a8b2",
   "metadata": {},
   "outputs": [],
   "source": [
    "os.chdir('D:\\\\Desktop\\\\vipin\\\\photoshop\\\\collectibles\\\\proj')"
   ]
  },
  {
   "cell_type": "code",
   "execution_count": 13,
   "id": "7f5bd987",
   "metadata": {},
   "outputs": [
    {
     "data": {
      "text/plain": [
       "'D:\\\\Desktop\\\\vipin\\\\photoshop\\\\collectibles\\\\proj'"
      ]
     },
     "execution_count": 13,
     "metadata": {},
     "output_type": "execute_result"
    }
   ],
   "source": [
    "os.getcwd()"
   ]
  },
  {
   "cell_type": "code",
   "execution_count": 16,
   "id": "2e0612ff",
   "metadata": {},
   "outputs": [],
   "source": [
    "with open(\"traits2.json\", 'r') as f:\n",
    "    traits = json.load(f)\n",
    "with open(\"new hashes.json\", 'r') as f:\n",
    "    hashes = json.load(f)"
   ]
  },
  {
   "cell_type": "code",
   "execution_count": 19,
   "id": "894ac7f8",
   "metadata": {},
   "outputs": [
    {
     "name": "stdout",
     "output_type": "stream",
     "text": [
      "QmRC7PZy3LjfU5XQQQm6xFYJwnarUnckFc7HarX7T1ADmr : 0\n",
      "QmaBLtF4uqppVATJu9gCCmrFJ6SHQi5kFNtxKRYB12e7pa : 1\n",
      "QmX8BnouqSpjJv6MYqBGrPPYZx1bZtjLs7gwt7DZtMuJHJ : 10\n",
      "QmX1963Fq4Uw3rmpZ6pmFycUgjukWbANT1raA61yNLUvu5 : 11\n",
      "Qmb5tnDKaz7QN8qQDByXDgFpaZczEhj4tuLXRzdsnfN8qo : 12\n",
      "QmZA9jN364UQSXZMJ6JEEnkYJMkzaA5rXVAHs9Gfaj8D8b : 13\n",
      "QmezGVkpN363UnZgUUpVGS3gGiL6ZFKCwkPVokuhUdjN4X : 14\n",
      "QmYxoxsTQFc9TnrxtWjnm2oRZeEtYKqcZqhnGFkNimh3S5 : 15\n",
      "QmaFFgPsuD4yrtWdoWKTp9weqTJfxSb1ge6gSbM1ABDBW7 : 16\n",
      "QmPF53r4CUuSKNPi2G78YmzEi8Ye9eJYzJTjZe2JF6qoAJ : 17\n",
      "QmdGjTuTJMyNCDwXCucnDz4dkf7K61YXrutAiqqj9wj19W : 18\n",
      "QmeLs19gUFKvHHqxry9tPFE1xjirgHS8N5rXN4nLYzke3Z : 19\n",
      "QmW4QPB14rSmd9Jf22FxVm5hEZfsjdVjkRtd4sn5ypMy6G : 2\n",
      "QmaVEp9HZQaTq8hvMS45yjXP55ekXy7enen7TXB4E95fT7 : 20\n",
      "QmbimVdMkiSvWzYMijeggFDJu4ze91ytkyqhxxDeeniMpm : 21\n",
      "QmWwH5eTweCGbRTNKLJ5sStrd73TeKSGUgfGB9xhpQHHNq : 22\n",
      "QmdN7E1PR8zea9zhTTA3C4PYewRuaLbCFsWYi9N2jEp5a8 : 23\n",
      "QmeN4atS6kgo11HWzEvAVXybpfMxRPC9QMsxro51ogjnF1 : 24\n",
      "QmVVwHqFgesf8bfUxK4nngNvJ45ZmQxfYpA8Tn3T1utqru : 25\n",
      "QmY8huUDipxbuck6DbWwgoi4erV3SikZd4DvgGEWGqACpG : 26\n",
      "QmUgbyzVqYnbh1jNpZoapVpFdR2VuWiEo5fq6aRYDvTfj9 : 27\n",
      "QmaGmxQiFfk4s1euHULVYkAyhDcJ3qqLgwXwpyKAfdLLS3 : 28\n",
      "Qma4vXjhCooZMucs1nYdMfPUo544fkXmFtepGPJ6CofgXG : 29\n",
      "QmRMmvjMZWyHYah73FWC5NyaiCLtr67D8B1ZZuPRrcqrRS : 3\n",
      "QmRH87krS6QVgA6sMuF4dTM96ERkGYHcZfvSxpCDLMS4VY : 30\n",
      "Qmcxt2hdiH17P98vV4JviUeMAtcEu5U3SB9cYnAX7o5QCq : 31\n",
      "QmWYefw4S6HhF5HcoZU3Bn9uvadJHTNsiZnnSf5yJy7wtm : 32\n",
      "QmV4aDa3XnYWaS6rz8NcSf5WmAZzU1JLW8cHcmRcaomzca : 33\n",
      "QmUtnBN9cjt26JjdoHpGQu86kKzhpMqUetMniCWiHZ2xt3 : 34\n",
      "QmXDYt7zGAgwq2AAmoarbQmk6XyuHiMKrijqS4DDEGMfFT : 35\n",
      "QmW6oFF7npuobkiWysxpmxMyYfUK42fgn5NNv1qS6cHeW9 : 36\n",
      "QmXB6MJe5XoZtBm7Fs7hrNA6aV9eqVBcDfDVBjfvzA5piK : 37\n",
      "Qmed1o1SmseX6rsaGaMuLHB12X9Lc2yv7oawhgoYQz8u4x : 38\n",
      "QmRY4VkoXMSysVV1rRD2evUrp9nZi9fKH1QVbSaHUiT1LD : 39\n",
      "QmdtuZK52fwa3jUMGDUamHXHc9n5j8QkSwFk999KemHmtP : 4\n",
      "QmSuMcjf6gkHC2NorEqEXm3zYN6vjBsxksHfa3SD6smNrc : 40\n",
      "QmVZWH5QtPZ7LoKU6sdnnPTYAsSM5mbW5go9HsnrS2BMob : 41\n",
      "QmUAZSJBeffaDwyhnAXhFVuMQXhzpfHRniARSGoQ9LjRfa : 42\n",
      "QmcUPv424FwjnBoEcit16ubDMb7hRf4j7cD8PS52Fj1vj4 : 43\n",
      "QmU2KGaoRf1vJyAaZMSn5Z4krkEpsWGUoXGrohQwbGyrfy : 44\n",
      "QmanGZwrQQSP9ENVRUG3C3RHHr66fpHSSacYUuMmd9MPsV : 45\n",
      "QmUPSjhtzK64Gi5AQaJN3T46WdPD5aXwtnrdh7VJE1wive : 46\n",
      "QmdfMUykLVoZgvU3xrpkGL9Y1rXKdYmDcGtsMQXgr9A1me : 47\n",
      "QmTBzspfrEyyKwRTDyg8pwvuGUJFock1Z6hBrmZ8h5Lyy2 : 48\n",
      "QmcFnYSepKyM9QUqrDWJyNxLR4Bx2SiqB7ecAWyFK1TLRJ : 49\n",
      "QmTbo14KzXXtJdzRfRaq7s2P6MXdQ8BPetPhjgrjPARM8v : 5\n",
      "QmPHM491adaU6Jd4qJ6GeRTod28kWPn5cqD5JustaBzLqT : 6\n",
      "QmYzXuCpW5KsfNpoKZRvAFoJ2YDAjD1qd6EYDzUn2vkmZJ : 7\n",
      "QmYXYCZj9YwHYNyqMoZ55U1KTgfVYV8B6jv2rTpNvH7Apc : 8\n",
      "QmTN6G96trsNtjLMz1EM6zpg6WMVn16DiuSdTFkc37XqRu : 9\n"
     ]
    }
   ],
   "source": [
    "for key in hashes:\n",
    "    i = int(hashes[key])\n",
    "    print(key, \":\",hashes[key])\n",
    "    traits[i][\"imageIPFS\"] = key"
   ]
  },
  {
   "cell_type": "code",
   "execution_count": 20,
   "id": "e864d5d2",
   "metadata": {},
   "outputs": [],
   "source": [
    "with open('traitsfinal.json', 'w') as outfile:\n",
    "    json.dump(traits, outfile, indent=4)"
   ]
  },
  {
   "cell_type": "code",
   "execution_count": null,
   "id": "1927a13c",
   "metadata": {},
   "outputs": [],
   "source": []
  }
 ],
 "metadata": {
  "kernelspec": {
   "display_name": "Python 3",
   "language": "python",
   "name": "python3"
  },
  "language_info": {
   "codemirror_mode": {
    "name": "ipython",
    "version": 3
   },
   "file_extension": ".py",
   "mimetype": "text/x-python",
   "name": "python",
   "nbconvert_exporter": "python",
   "pygments_lexer": "ipython3",
   "version": "3.8.8"
  }
 },
 "nbformat": 4,
 "nbformat_minor": 5
}
